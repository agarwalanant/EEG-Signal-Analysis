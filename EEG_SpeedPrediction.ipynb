{
  "nbformat": 4,
  "nbformat_minor": 0,
  "metadata": {
    "colab": {
      "name": "EEG-SpeedPrediction.ipynb",
      "version": "0.3.2",
      "provenance": [],
      "include_colab_link": true
    },
    "kernelspec": {
      "name": "python3",
      "display_name": "Python 3"
    }
  },
  "cells": [
    {
      "cell_type": "markdown",
      "metadata": {
        "id": "view-in-github",
        "colab_type": "text"
      },
      "source": [
        "<a href=\"https://colab.research.google.com/github/agarwalanant/EEG-Signal-Analysis/blob/master/EEG_SpeedPrediction.ipynb\" target=\"_parent\"><img src=\"https://colab.research.google.com/assets/colab-badge.svg\" alt=\"Open In Colab\"/></a>"
      ]
    },
    {
      "cell_type": "code",
      "metadata": {
        "id": "AsIN2nNTfM_w",
        "colab_type": "code",
        "outputId": "735c00ff-1e4a-475d-ed18-79c7652a0a0e",
        "colab": {
          "base_uri": "https://localhost:8080/",
          "height": 124
        }
      },
      "source": [
        "from google.colab import drive\n",
        "drive.mount('/content/gdrive')"
      ],
      "execution_count": 0,
      "outputs": [
        {
          "output_type": "stream",
          "text": [
            "Go to this URL in a browser: https://accounts.google.com/o/oauth2/auth?client_id=947318989803-6bn6qk8qdgf4n4g3pfee6491hc0brc4i.apps.googleusercontent.com&redirect_uri=urn%3Aietf%3Awg%3Aoauth%3A2.0%3Aoob&scope=email%20https%3A%2F%2Fwww.googleapis.com%2Fauth%2Fdocs.test%20https%3A%2F%2Fwww.googleapis.com%2Fauth%2Fdrive%20https%3A%2F%2Fwww.googleapis.com%2Fauth%2Fdrive.photos.readonly%20https%3A%2F%2Fwww.googleapis.com%2Fauth%2Fpeopleapi.readonly&response_type=code\n",
            "\n",
            "Enter your authorization code:\n",
            "··········\n",
            "Mounted at /content/gdrive\n"
          ],
          "name": "stdout"
        }
      ]
    },
    {
      "cell_type": "code",
      "metadata": {
        "id": "xQkQu7ypfTgE",
        "colab_type": "code",
        "outputId": "aefd1810-01c4-4799-9819-8c400b9e54ca",
        "colab": {
          "base_uri": "https://localhost:8080/",
          "height": 35
        }
      },
      "source": [
        "import pandas as pd\n",
        "import matplotlib.pyplot as plt\n",
        "import keras\n",
        "from keras.models import Sequential\n",
        "from keras.layers import Dense, Dropout, Flatten, Reshape, GlobalAveragePooling1D\n",
        "from keras.layers import Conv2D, MaxPooling2D, Conv1D, MaxPooling1D\n",
        "from keras.utils import np_utils, to_categorical\n",
        "import numpy as np\n",
        "from scipy.io import loadmat\n",
        "from keras import optimizers\n",
        "from keras.callbacks import *"
      ],
      "execution_count": 0,
      "outputs": [
        {
          "output_type": "stream",
          "text": [
            "Using TensorFlow backend.\n"
          ],
          "name": "stderr"
        }
      ]
    },
    {
      "cell_type": "code",
      "metadata": {
        "id": "kjsY5hppPgy0",
        "colab_type": "code",
        "colab": {}
      },
      "source": [
        "#importing pre processing \n",
        "from sklearn.preprocessing import StandardScaler\n",
        "from sklearn.decomposition import PCA"
      ],
      "execution_count": 0,
      "outputs": []
    },
    {
      "cell_type": "code",
      "metadata": {
        "id": "p1g9OXOQfeJ7",
        "colab_type": "code",
        "colab": {}
      },
      "source": [
        "x = loadmat('gdrive/My Drive/EEG-Signal/2.5n/0 (2).mat')\n",
        "y = loadmat('gdrive/My Drive/EEG-Signal/2.5n/1 (1).mat')"
      ],
      "execution_count": 0,
      "outputs": []
    },
    {
      "cell_type": "code",
      "metadata": {
        "id": "4253ItvfyyKt",
        "colab_type": "code",
        "outputId": "1e474076-9cae-4660-fc51-560bdef9f8b1",
        "colab": {
          "base_uri": "https://localhost:8080/",
          "height": 35
        }
      },
      "source": [
        "list(x.keys()).index('S1_self_fft_T1_')"
      ],
      "execution_count": 0,
      "outputs": [
        {
          "output_type": "execute_result",
          "data": {
            "text/plain": [
              "3"
            ]
          },
          "metadata": {
            "tags": []
          },
          "execution_count": 33
        }
      ]
    },
    {
      "cell_type": "code",
      "metadata": {
        "id": "pm9yjfS22aky",
        "colab_type": "code",
        "colab": {}
      },
      "source": [
        "z =x[list(x)[3]]\n",
        "z"
      ],
      "execution_count": 0,
      "outputs": []
    },
    {
      "cell_type": "code",
      "metadata": {
        "id": "7xE-H_EZ63Ab",
        "colab_type": "code",
        "colab": {}
      },
      "source": [
        "import os\n",
        "path = 'gdrive/My Drive/EEG-Signal/2.5n'\n",
        "files = os.listdir(path)\n",
        "files"
      ],
      "execution_count": 0,
      "outputs": []
    },
    {
      "cell_type": "code",
      "metadata": {
        "id": "OD-7llK5wGE3",
        "colab_type": "code",
        "colab": {}
      },
      "source": [
        "import os\n",
        "path = 'gdrive/My Drive/EEG-Signal_Treadmil/S7_Data/6/T1'\n",
        "files = os.listdir(path)\n",
        "i = 0\n",
        "nn = np.empty([2400, 1],dtype=float)\n",
        "for file in files:\n",
        "    x = loadmat(os.path.join(path, file))\n",
        "    z =x[list(x)[3]]\n",
        "    z= z[:2400,:]\n",
        "    nn = np.concatenate((nn, z), axis=1)\n",
        "#     i=i+1\n",
        "nn = nn[:,1:]    \n",
        "np.save(path + '/nn', nn)    \n",
        "    "
      ],
      "execution_count": 0,
      "outputs": []
    },
    {
      "cell_type": "code",
      "metadata": {
        "id": "60qcfl_eQwzn",
        "colab_type": "code",
        "colab": {}
      },
      "source": [
        "import os\n",
        "path = 'gdrive/My Drive/EEG-Signal_Treadmil/6'\n",
        "files = os.listdir(path)\n",
        "data60 = np.empty([0,4],dtype=float)\n",
        "l =[]\n",
        "for file in files:\n",
        "  x = np.load(os.path.join(path, file))\n",
        "  data60 = np.concatenate((data60,x), axis=0)"
      ],
      "execution_count": 0,
      "outputs": []
    },
    {
      "cell_type": "code",
      "metadata": {
        "id": "YQ9OcXxdFMLr",
        "colab_type": "code",
        "colab": {}
      },
      "source": [
        "import os\n",
        "path = 'gdrive/My Drive/EEG-Signal_Treadmil/3'\n",
        "files = os.listdir(path)\n",
        "data30 = np.empty([0,4],dtype=float)\n",
        "l =[]\n",
        "for file in files:\n",
        "  x = np.load(os.path.join(path, file))\n",
        "  data30 = np.concatenate((data30,x), axis=0)\n",
        "# data30 = data30[:14400,:]"
      ],
      "execution_count": 0,
      "outputs": []
    },
    {
      "cell_type": "code",
      "metadata": {
        "id": "JUey63DyiIB8",
        "colab_type": "code",
        "outputId": "a97bca85-550f-4cad-d722-fe0529f24946",
        "colab": {
          "base_uri": "https://localhost:8080/",
          "height": 35
        }
      },
      "source": [
        "np.sum(data60)"
      ],
      "execution_count": 0,
      "outputs": [
        {
          "output_type": "execute_result",
          "data": {
            "text/plain": [
              "29379.013615994732"
            ]
          },
          "metadata": {
            "tags": []
          },
          "execution_count": 24
        }
      ]
    },
    {
      "cell_type": "code",
      "metadata": {
        "id": "IgafqOnGimJn",
        "colab_type": "code",
        "outputId": "b8ead487-5abd-4bf1-fa06-2af75c60a5cc",
        "colab": {
          "base_uri": "https://localhost:8080/",
          "height": 35
        }
      },
      "source": [
        "np.sum(data30)"
      ],
      "execution_count": 0,
      "outputs": [
        {
          "output_type": "execute_result",
          "data": {
            "text/plain": [
              "17176.07014177703"
            ]
          },
          "metadata": {
            "tags": []
          },
          "execution_count": 25
        }
      ]
    },
    {
      "cell_type": "code",
      "metadata": {
        "id": "eYdhnojOilN9",
        "colab_type": "code",
        "colab": {}
      },
      "source": [
        ""
      ],
      "execution_count": 0,
      "outputs": []
    },
    {
      "cell_type": "code",
      "metadata": {
        "id": "PE0crLHWcZxo",
        "colab_type": "code",
        "colab": {}
      },
      "source": [
        "out = np.empty([data60.shape[0] + data30.shape[0],1],dtype=float)\n"
      ],
      "execution_count": 0,
      "outputs": []
    },
    {
      "cell_type": "code",
      "metadata": {
        "id": "B-Wk7gErkxu7",
        "colab_type": "code",
        "outputId": "e084fb79-f17f-45ba-c8a4-2345574700de",
        "colab": {
          "base_uri": "https://localhost:8080/",
          "height": 35
        }
      },
      "source": [
        "out.shape"
      ],
      "execution_count": 0,
      "outputs": [
        {
          "output_type": "execute_result",
          "data": {
            "text/plain": [
              "(9600, 1)"
            ]
          },
          "metadata": {
            "tags": []
          },
          "execution_count": 27
        }
      ]
    },
    {
      "cell_type": "code",
      "metadata": {
        "id": "mLOybCNwcsOi",
        "colab_type": "code",
        "colab": {}
      },
      "source": [
        "out[:4800,:] =0\n",
        "out[4800:,:] =1"
      ],
      "execution_count": 0,
      "outputs": []
    },
    {
      "cell_type": "code",
      "metadata": {
        "id": "VdGIYcP1FpUA",
        "colab_type": "code",
        "outputId": "4b59649f-f612-4c7e-8fc2-4dcb6d1519f6",
        "colab": {
          "base_uri": "https://localhost:8080/",
          "height": 35
        }
      },
      "source": [
        "np.sum(out[:,:] == 1)"
      ],
      "execution_count": 0,
      "outputs": [
        {
          "output_type": "execute_result",
          "data": {
            "text/plain": [
              "4800"
            ]
          },
          "metadata": {
            "tags": []
          },
          "execution_count": 29
        }
      ]
    },
    {
      "cell_type": "code",
      "metadata": {
        "id": "OhdoRS2Z_IdD",
        "colab_type": "code",
        "colab": {}
      },
      "source": [
        "out_new = to_categorical(out,num_classes= 2)"
      ],
      "execution_count": 0,
      "outputs": []
    },
    {
      "cell_type": "code",
      "metadata": {
        "id": "_rrNgIWK4tsN",
        "colab_type": "code",
        "outputId": "4da174ab-0ed0-4cb6-e199-5bfaa3169362",
        "colab": {
          "base_uri": "https://localhost:8080/",
          "height": 35
        }
      },
      "source": [
        "np.sum(out_new[:,1])"
      ],
      "execution_count": 0,
      "outputs": [
        {
          "output_type": "execute_result",
          "data": {
            "text/plain": [
              "4800.0"
            ]
          },
          "metadata": {
            "tags": []
          },
          "execution_count": 32
        }
      ]
    },
    {
      "cell_type": "code",
      "metadata": {
        "id": "62dx0G9VGJB4",
        "colab_type": "code",
        "outputId": "e48023d7-c084-4ae7-bc5f-3cb657b6a8cc",
        "colab": {
          "base_uri": "https://localhost:8080/",
          "height": 35
        }
      },
      "source": [
        "out_new.shape"
      ],
      "execution_count": 0,
      "outputs": [
        {
          "output_type": "execute_result",
          "data": {
            "text/plain": [
              "(9600, 2)"
            ]
          },
          "metadata": {
            "tags": []
          },
          "execution_count": 161
        }
      ]
    },
    {
      "cell_type": "code",
      "metadata": {
        "id": "BbVfL1Otju8N",
        "colab_type": "code",
        "colab": {}
      },
      "source": [
        "# out = out.reshape(out.shape[0],out.shape[1])"
      ],
      "execution_count": 0,
      "outputs": []
    },
    {
      "cell_type": "code",
      "metadata": {
        "id": "dOJYJZ1kj89L",
        "colab_type": "code",
        "outputId": "ff613a1a-c94b-4523-d955-e85bb632a7c1",
        "colab": {
          "base_uri": "https://localhost:8080/",
          "height": 35
        }
      },
      "source": [
        "data = np.concatenate((data60,data30), axis=0)\n",
        "data.shape\n",
        "m = np.amax(data)\n",
        "data= data.astype('float32')/m\n",
        "pca = PCA(n_components=4)\n",
        "pca.fit(data)\n",
        "data = pca.transform(data)\n",
        "data = np.concatenate((data,out_new), axis=1)\n",
        "data.shape"
      ],
      "execution_count": 0,
      "outputs": [
        {
          "output_type": "execute_result",
          "data": {
            "text/plain": [
              "(9600, 6)"
            ]
          },
          "metadata": {
            "tags": []
          },
          "execution_count": 109
        }
      ]
    },
    {
      "cell_type": "code",
      "metadata": {
        "id": "BNv0gYU9BlDX",
        "colab_type": "code",
        "outputId": "8477cba8-cb51-45db-94ed-ea9b11331e94",
        "colab": {
          "base_uri": "https://localhost:8080/",
          "height": 89
        }
      },
      "source": [
        "\n",
        "df = pd.DataFrame(data)\n",
        "for i in range(4):\n",
        "  df =df[df.iloc[:,i] <0.15]\n",
        "#transfer df to np\n",
        "data =df.as_matrix()\n",
        "# data = data.reshape(data.shape[0],-1)\n",
        "\n",
        "#Preprocessing\n",
        "\n",
        "# data= data.reshape(data.shape[0],4,1)\n",
        "data.shape"
      ],
      "execution_count": 0,
      "outputs": [
        {
          "output_type": "stream",
          "text": [
            "/usr/local/lib/python3.6/dist-packages/ipykernel_launcher.py:6: FutureWarning: Method .as_matrix will be removed in a future version. Use .values instead.\n",
            "  \n"
          ],
          "name": "stderr"
        },
        {
          "output_type": "execute_result",
          "data": {
            "text/plain": [
              "(9471, 6)"
            ]
          },
          "metadata": {
            "tags": []
          },
          "execution_count": 113
        }
      ]
    },
    {
      "cell_type": "code",
      "metadata": {
        "id": "df9kFePOA-sJ",
        "colab_type": "code",
        "outputId": "144831ca-af85-48bd-ea9c-b087a6c1b6a3",
        "colab": {
          "base_uri": "https://localhost:8080/",
          "height": 52
        }
      },
      "source": [
        "pca = PCA()\n",
        "pca.fit(data)"
      ],
      "execution_count": 0,
      "outputs": [
        {
          "output_type": "execute_result",
          "data": {
            "text/plain": [
              "PCA(copy=True, iterated_power='auto', n_components=None, random_state=None,\n",
              "    svd_solver='auto', tol=0.0, whiten=False)"
            ]
          },
          "metadata": {
            "tags": []
          },
          "execution_count": 84
        }
      ]
    },
    {
      "cell_type": "code",
      "metadata": {
        "id": "WUFXKskVsVyA",
        "colab_type": "code",
        "outputId": "a1fbda3e-3273-4b22-d403-54be9c75f400",
        "colab": {
          "base_uri": "https://localhost:8080/",
          "height": 35
        }
      },
      "source": [
        "np.sum(data[:,5])"
      ],
      "execution_count": 0,
      "outputs": [
        {
          "output_type": "execute_result",
          "data": {
            "text/plain": [
              "4479.0"
            ]
          },
          "metadata": {
            "tags": []
          },
          "execution_count": 51
        }
      ]
    },
    {
      "cell_type": "code",
      "metadata": {
        "id": "Alirf9golVkC",
        "colab_type": "code",
        "colab": {}
      },
      "source": [
        "np.save(\"gdrive/My Drive/EEG-Signal_Treadmil\" + '/data_train_with output_final', data)    "
      ],
      "execution_count": 0,
      "outputs": []
    },
    {
      "cell_type": "code",
      "metadata": {
        "id": "7M0RLD_J2072",
        "colab_type": "code",
        "outputId": "5abc696a-dd03-4da7-be6c-7695eca41af0",
        "colab": {
          "base_uri": "https://localhost:8080/",
          "height": 35
        }
      },
      "source": [
        "data = np.load(\"gdrive/My Drive/EEG-Signal_Treadmil/data_train_with output_final.npy\")\n",
        "data.shape"
      ],
      "execution_count": 0,
      "outputs": [
        {
          "output_type": "execute_result",
          "data": {
            "text/plain": [
              "(8819, 6)"
            ]
          },
          "metadata": {
            "tags": []
          },
          "execution_count": 7
        }
      ]
    },
    {
      "cell_type": "code",
      "metadata": {
        "id": "yNJ12EtMOhS3",
        "colab_type": "code",
        "outputId": "ef5ea529-3f39-44bc-e442-7ec3f113ca36",
        "colab": {
          "base_uri": "https://localhost:8080/",
          "height": 69
        }
      },
      "source": [
        "# #Loading Saved data\n",
        "# data = np.load(\"gdrive/My Drive/EEG-Signal_Treadmil/data_train.npy\")\n",
        "# data = data.reshape(data.shape[0],-1)\n",
        "# out = np.load(\"gdrive/My Drive/EEG-Signal_Treadmil/out_train.npy\")\n",
        "# print(data.shape)\n",
        "# print(out.shape)\n",
        "# data = np.concatenate((data,out), axis=1)\n",
        "# print(data.shape)"
      ],
      "execution_count": 0,
      "outputs": [
        {
          "output_type": "stream",
          "text": [
            "(9600, 4)\n",
            "(9600, 2)\n",
            "(9600, 6)\n"
          ],
          "name": "stdout"
        }
      ]
    },
    {
      "cell_type": "code",
      "metadata": {
        "id": "yUWswfeukPak",
        "colab_type": "code",
        "outputId": "73dbdc53-faed-4413-a3f6-270cd014856e",
        "colab": {
          "base_uri": "https://localhost:8080/",
          "height": 35
        }
      },
      "source": [
        ""
      ],
      "execution_count": 0,
      "outputs": [
        {
          "output_type": "execute_result",
          "data": {
            "text/plain": [
              "(9600, 4)"
            ]
          },
          "metadata": {
            "tags": []
          },
          "execution_count": 40
        }
      ]
    },
    {
      "cell_type": "code",
      "metadata": {
        "id": "0yPCCQDikVQk",
        "colab_type": "code",
        "outputId": "1898ee80-1904-494a-8f4f-b0c0602b64a4",
        "colab": {
          "base_uri": "https://localhost:8080/",
          "height": 35
        }
      },
      "source": [
        ""
      ],
      "execution_count": 0,
      "outputs": [
        {
          "output_type": "execute_result",
          "data": {
            "text/plain": [
              "(8819, 4)"
            ]
          },
          "metadata": {
            "tags": []
          },
          "execution_count": 41
        }
      ]
    },
    {
      "cell_type": "code",
      "metadata": {
        "id": "ucwjEDn4mfeJ",
        "colab_type": "code",
        "outputId": "8656920d-d87e-4c80-972c-226d8b6f82ea",
        "colab": {
          "base_uri": "https://localhost:8080/",
          "height": 287
        }
      },
      "source": [
        "plt.scatter(data[:,0],data[:,3])"
      ],
      "execution_count": 0,
      "outputs": [
        {
          "output_type": "execute_result",
          "data": {
            "text/plain": [
              "<matplotlib.collections.PathCollection at 0x7f6b8ba01a58>"
            ]
          },
          "metadata": {
            "tags": []
          },
          "execution_count": 114
        },
        {
          "output_type": "display_data",
          "data": {
            "image/png": "[encoded data removed]",
            "text/plain": [
              "<Figure size 432x288 with 1 Axes>"
            ]
          },
          "metadata": {
            "tags": []
          }
        }
      ]
    },
    {
      "cell_type": "code",
      "metadata": {
        "id": "P16WCaz4akjr",
        "colab_type": "code",
        "outputId": "ae88f7d2-7931-41ec-f7d7-5579994941be",
        "colab": {
          "base_uri": "https://localhost:8080/",
          "height": 89
        }
      },
      "source": [
        ""
      ],
      "execution_count": 0,
      "outputs": [
        {
          "output_type": "stream",
          "text": [
            "/usr/local/lib/python3.6/dist-packages/ipykernel_launcher.py:1: FutureWarning: Method .as_matrix will be removed in a future version. Use .values instead.\n",
            "  \"\"\"Entry point for launching an IPython kernel.\n"
          ],
          "name": "stderr"
        },
        {
          "output_type": "execute_result",
          "data": {
            "text/plain": [
              "(8819, 4)"
            ]
          },
          "metadata": {
            "tags": []
          },
          "execution_count": 46
        }
      ]
    },
    {
      "cell_type": "code",
      "metadata": {
        "id": "XZIyVSGHecY_",
        "colab_type": "code",
        "outputId": "46291739-2614-400c-fcda-fbd9bc2cedcb",
        "colab": {
          "base_uri": "https://localhost:8080/",
          "height": 35
        }
      },
      "source": [
        "np.count_nonzero(data)"
      ],
      "execution_count": 0,
      "outputs": [
        {
          "output_type": "execute_result",
          "data": {
            "text/plain": [
              "190570"
            ]
          },
          "metadata": {
            "tags": []
          },
          "execution_count": 84
        }
      ]
    },
    {
      "cell_type": "code",
      "metadata": {
        "id": "Y2r3B1GA4hWz",
        "colab_type": "code",
        "outputId": "463db2d8-2763-4cc4-b544-6ba4aa9196f7",
        "colab": {
          "base_uri": "https://localhost:8080/",
          "height": 35
        }
      },
      "source": [
        "data.shape"
      ],
      "execution_count": 0,
      "outputs": [
        {
          "output_type": "execute_result",
          "data": {
            "text/plain": [
              "(8819, 6)"
            ]
          },
          "metadata": {
            "tags": []
          },
          "execution_count": 52
        }
      ]
    },
    {
      "cell_type": "code",
      "metadata": {
        "id": "-jKU0hmn4WuA",
        "colab_type": "code",
        "outputId": "8b0d0d79-e5ca-4b1f-b4b8-0928459d33ee",
        "colab": {
          "base_uri": "https://localhost:8080/",
          "height": 35
        }
      },
      "source": [
        "np.sum(data[:,4])"
      ],
      "execution_count": 0,
      "outputs": [
        {
          "output_type": "execute_result",
          "data": {
            "text/plain": [
              "4714.0"
            ]
          },
          "metadata": {
            "tags": []
          },
          "execution_count": 116
        }
      ]
    },
    {
      "cell_type": "code",
      "metadata": {
        "id": "Rf_qfuwTa4F8",
        "colab_type": "code",
        "outputId": "2ff7275b-5a0f-479b-ad12-2e5879a55c9b",
        "colab": {
          "base_uri": "https://localhost:8080/",
          "height": 373
        }
      },
      "source": [
        "plt.hist(data[:4800,1])"
      ],
      "execution_count": 0,
      "outputs": [
        {
          "output_type": "execute_result",
          "data": {
            "text/plain": [
              "(array([3.000e+00, 1.300e+01, 4.161e+03, 5.770e+02, 2.400e+01, 7.000e+00,\n",
              "        4.000e+00, 6.000e+00, 2.000e+00, 3.000e+00]),\n",
              " array([-0.2960579 , -0.18989687, -0.08373582,  0.02242522,  0.12858626,\n",
              "         0.2347473 ,  0.34090835,  0.4470694 ,  0.5532304 ,  0.65939146,\n",
              "         0.7655525 ], dtype=float32),\n",
              " <a list of 10 Patch objects>)"
            ]
          },
          "metadata": {
            "tags": []
          },
          "execution_count": 96
        },
        {
          "output_type": "display_data",
          "data": {
            "image/png": "[encoded data removed]",
            "text/plain": [
              "<Figure size 432x288 with 1 Axes>"
            ]
          },
          "metadata": {
            "tags": []
          }
        }
      ]
    },
    {
      "cell_type": "code",
      "metadata": {
        "id": "HP-Sa99Eka3F",
        "colab_type": "code",
        "colab": {}
      },
      "source": [
        "data2d = data.reshape(data.shape[0],2,2,1)"
      ],
      "execution_count": 0,
      "outputs": []
    },
    {
      "cell_type": "code",
      "metadata": {
        "id": "jj5htt1Nkver",
        "colab_type": "code",
        "outputId": "ed954b2e-6a76-4e9d-9d01-a4826f4c454c",
        "colab": {
          "base_uri": "https://localhost:8080/",
          "height": 457
        }
      },
      "source": [
        "model = Sequential()\n",
        "model.add(Conv2D(filters=16, kernel_size=3, padding='same', activation='tanh', \n",
        "                        input_shape=(2, 2, 1)))\n",
        "# model.add(MaxPooling2D(pool_size=2))\n",
        "model.add(Conv2D(filters=32, kernel_size=3, padding='same', activation='elu',))\n",
        "# model.add(MaxPooling2D(pool_size=2))\n",
        "model.add(Conv2D(filters=32, kernel_size=3, padding='same', activation='elu',))\n",
        "# model.add(MaxPooling2D(pool_size=2))\n",
        "model.add(Conv2D(filters=16, kernel_size=3, padding='same', activation='tanh'))\n",
        "# model.add(MaxPooling2D(pool_size=2))\n",
        "# model.add(Dropout(0.3))\n",
        "model.add(Flatten())\n",
        "\n",
        "model.add(Dense(32, activation='elu'))\n",
        "model.add(Dense(32, activation='elu'))\n",
        "model.add(Dense(8, activation='elu'))\n",
        "model.add(Dense(2, activation='softmax'))\n",
        "\n",
        "model.summary()"
      ],
      "execution_count": 0,
      "outputs": [
        {
          "output_type": "stream",
          "text": [
            "_________________________________________________________________\n",
            "Layer (type)                 Output Shape              Param #   \n",
            "=================================================================\n",
            "conv2d_1 (Conv2D)            (None, 2, 2, 16)          160       \n",
            "_________________________________________________________________\n",
            "conv2d_2 (Conv2D)            (None, 2, 2, 32)          4640      \n",
            "_________________________________________________________________\n",
            "conv2d_3 (Conv2D)            (None, 2, 2, 32)          9248      \n",
            "_________________________________________________________________\n",
            "conv2d_4 (Conv2D)            (None, 2, 2, 16)          4624      \n",
            "_________________________________________________________________\n",
            "flatten_3 (Flatten)          (None, 64)                0         \n",
            "_________________________________________________________________\n",
            "dense_9 (Dense)              (None, 32)                2080      \n",
            "_________________________________________________________________\n",
            "dense_10 (Dense)             (None, 32)                1056      \n",
            "_________________________________________________________________\n",
            "dense_11 (Dense)             (None, 8)                 264       \n",
            "_________________________________________________________________\n",
            "dense_12 (Dense)             (None, 2)                 18        \n",
            "=================================================================\n",
            "Total params: 22,090\n",
            "Trainable params: 22,090\n",
            "Non-trainable params: 0\n",
            "_________________________________________________________________\n"
          ],
          "name": "stdout"
        }
      ]
    },
    {
      "cell_type": "code",
      "metadata": {
        "id": "QnII3VIJgzsF",
        "colab_type": "code",
        "outputId": "0e803bb1-1cff-49c9-9b3d-b68cee885c4b",
        "colab": {
          "base_uri": "https://localhost:8080/",
          "height": 69
        }
      },
      "source": [
        "inp  = data[:,:4]\n",
        "inp = inp.reshape(inp.shape[0],inp.shape[1],1)\n",
        "out_f = data[:,4:]\n",
        "print(inp.shape)\n",
        "print(out_f.shape)\n",
        "print(np.sum(out_f[:,1]))"
      ],
      "execution_count": 0,
      "outputs": [
        {
          "output_type": "stream",
          "text": [
            "(9471, 4, 1)\n",
            "(9471, 2)\n",
            "4757.0\n"
          ],
          "name": "stdout"
        }
      ]
    },
    {
      "cell_type": "code",
      "metadata": {
        "id": "8ukiyo4L8AlX",
        "colab_type": "code",
        "colab": {}
      },
      "source": [
        "def modelelu():\n",
        "  model = Sequential()\n",
        "  model.add(Conv1D(filters=16, kernel_size=3, padding='same', activation='tanh', \n",
        "                          input_shape=(4, 1)))\n",
        "  # model.add(MaxPooling2D(pool_size=2))\n",
        "  model.add(Conv1D(filters=32, kernel_size=3, padding='same', activation='elu',))\n",
        "  # model.add(MaxPooling2D(pool_size=2))\n",
        "  model.add(Conv1D(filters=32, kernel_size=3, padding='same', activation='elu',))\n",
        "  # model.add(MaxPooling2D(pool_size=2))\n",
        "  model.add(Conv1D(filters=16, kernel_size=3, padding='same', activation='tanh'))\n",
        "  # model.add(MaxPooling2D(pool_size=2))\n",
        "  # model.add(Dropout(0.3))\n",
        "  model.add(Flatten())\n",
        "\n",
        "  model.add(Dense(32, activation='tanh'))\n",
        "  model.add(Dense(32, activation='tanh'))\n",
        "  model.add(Dense(8, activation='tanh'))\n",
        "  model.add(Dense(2, activation='softmax'))\n",
        "  return model"
      ],
      "execution_count": 0,
      "outputs": []
    },
    {
      "cell_type": "code",
      "metadata": {
        "id": "mmir4I3vrsij",
        "colab_type": "code",
        "colab": {}
      },
      "source": [
        "def modelrelu():\n",
        "  model = Sequential()\n",
        "  model.add(Conv1D(filters=128, kernel_size=3, padding='same', activation='relu', \n",
        "                          input_shape=(4, 1)))\n",
        "  # model.add(MaxPooling2D(pool_size=2))\n",
        "  model.add(Conv1D(filters=512, kernel_size=5, padding='same', activation='relu',))\n",
        "  model.add(MaxPooling1D(pool_size=2))\n",
        "#   model.add(Conv1D(filters=1024, kernel_size=7, padding='same', activation='relu',))\n",
        "#   model.add(MaxPooling1D(pool_size=2))\n",
        "#   model.add(Dropout(0.3))\n",
        "#   model.add(Conv1D(filters=512, kernel_size=3, padding='same', activation='relu',))\n",
        "#   # model.add(MaxPooling2D(pool_size=2))\n",
        "#   model.add(Dropout(0.3))\n",
        "  model.add(Conv1D(filters=128, kernel_size=3, padding='same', activation='relu'))\n",
        "  # model.add(MaxPooling2D(pool_size=2))\n",
        "  model.add(Flatten())\n",
        "\n",
        "  model.add(Dense(128, activation='relu'))\n",
        "  model.add(Dense(128, activation='relu'))\n",
        "  model.add(Dense(32, activation='relu'))\n",
        "  model.add(Dense(2, activation='softmax'))\n",
        "  return model"
      ],
      "execution_count": 0,
      "outputs": []
    },
    {
      "cell_type": "code",
      "metadata": {
        "id": "ltWkllOeof0x",
        "colab_type": "code",
        "outputId": "9e6db6ad-98bb-4f59-debe-15aa308558aa",
        "colab": {
          "base_uri": "https://localhost:8080/",
          "height": 451
        }
      },
      "source": [
        "model = modelrelu()\n",
        "model.summary()"
      ],
      "execution_count": 0,
      "outputs": [
        {
          "output_type": "stream",
          "text": [
            "_________________________________________________________________\n",
            "Layer (type)                 Output Shape              Param #   \n",
            "=================================================================\n",
            "conv1d_7 (Conv1D)            (None, 4, 128)            512       \n",
            "_________________________________________________________________\n",
            "conv1d_8 (Conv1D)            (None, 4, 512)            328192    \n",
            "_________________________________________________________________\n",
            "max_pooling1d_3 (MaxPooling1 (None, 2, 512)            0         \n",
            "_________________________________________________________________\n",
            "conv1d_9 (Conv1D)            (None, 2, 128)            196736    \n",
            "_________________________________________________________________\n",
            "flatten_3 (Flatten)          (None, 256)               0         \n",
            "_________________________________________________________________\n",
            "dense_9 (Dense)              (None, 128)               32896     \n",
            "_________________________________________________________________\n",
            "dense_10 (Dense)             (None, 128)               16512     \n",
            "_________________________________________________________________\n",
            "dense_11 (Dense)             (None, 32)                4128      \n",
            "_________________________________________________________________\n",
            "dense_12 (Dense)             (None, 2)                 66        \n",
            "=================================================================\n",
            "Total params: 579,042\n",
            "Trainable params: 579,042\n",
            "Non-trainable params: 0\n",
            "_________________________________________________________________\n"
          ],
          "name": "stdout"
        }
      ]
    },
    {
      "cell_type": "code",
      "metadata": {
        "id": "6QIbpWO5k4vz",
        "colab_type": "code",
        "colab": {}
      },
      "source": [
        "model.compile(loss=\"binary_crossentropy\", optimizer='adadelta')"
      ],
      "execution_count": 0,
      "outputs": []
    },
    {
      "cell_type": "code",
      "metadata": {
        "id": "2GIAFEfUMKzz",
        "colab_type": "code",
        "colab": {}
      },
      "source": [
        "adam = optimizers.Adam(amsgrad = True, lr =0.001)\n",
        "model.compile(loss=\"categorical_crossentropy\", optimizer=adam)"
      ],
      "execution_count": 0,
      "outputs": []
    },
    {
      "cell_type": "code",
      "metadata": {
        "id": "W4E-l-rzIJo7",
        "colab_type": "code",
        "colab": {}
      },
      "source": [
        "epochs = 100\n",
        "lrate = 0.0001\n",
        "decay = lrate/epochs\n",
        "sgd = optimizers.SGD(lr=lrate, momentum=0.20, decay=decay, nesterov=False)\n",
        "model.compile(loss='categorical_crossentropy', optimizer=sgd, metrics=['accuracy'])"
      ],
      "execution_count": 0,
      "outputs": []
    },
    {
      "cell_type": "code",
      "metadata": {
        "id": "pTLPa2QohB9G",
        "colab_type": "code",
        "colab": {}
      },
      "source": [
        "model.compile(loss='binary_crossentropy', optimizer=\"SGD\", metrics=['accuracy'])"
      ],
      "execution_count": 0,
      "outputs": []
    },
    {
      "cell_type": "code",
      "metadata": {
        "id": "Z6-57hH5J91r",
        "colab_type": "code",
        "colab": {}
      },
      "source": [
        "callbacks = [ReduceLROnPlateau(monitor = 'val_loss', factor = 0.5, patience = 1)]"
      ],
      "execution_count": 0,
      "outputs": []
    },
    {
      "cell_type": "code",
      "metadata": {
        "id": "gPSzAIMHqtXZ",
        "colab_type": "code",
        "outputId": "2bb2033e-8aca-493a-fdde-37dc0965d2e7",
        "colab": {
          "base_uri": "https://localhost:8080/",
          "height": 3501
        }
      },
      "source": [
        "model_history =[]\n",
        "model_history.append(model.fit(inp,out_f,epochs =100,validation_split= 0.1,shuffle=False,batch_size= 16,verbose =1))"
      ],
      "execution_count": 0,
      "outputs": [
        {
          "output_type": "stream",
          "text": [
            "Train on 8523 samples, validate on 948 samples\n",
            "Epoch 1/100\n",
            "8523/8523 [==============================] - 17s 2ms/step - loss: 0.6897 - acc: 0.5512 - val_loss: 0.6940 - val_acc: 0.0000e+00\n",
            "Epoch 2/100\n",
            "8523/8523 [==============================] - 17s 2ms/step - loss: 0.6917 - acc: 0.5531 - val_loss: 0.7030 - val_acc: 0.0000e+00\n",
            "Epoch 3/100\n",
            "8523/8523 [==============================] - 17s 2ms/step - loss: 0.6900 - acc: 0.5531 - val_loss: 0.7086 - val_acc: 0.0000e+00\n",
            "Epoch 4/100\n",
            "8523/8523 [==============================] - 17s 2ms/step - loss: 0.6898 - acc: 0.5531 - val_loss: 0.7149 - val_acc: 0.0000e+00\n",
            "Epoch 5/100\n",
            "8523/8523 [==============================] - 17s 2ms/step - loss: 0.6895 - acc: 0.5531 - val_loss: 0.7210 - val_acc: 0.0000e+00\n",
            "Epoch 6/100\n",
            "8523/8523 [==============================] - 17s 2ms/step - loss: 0.6899 - acc: 0.5531 - val_loss: 0.7308 - val_acc: 0.0000e+00\n",
            "Epoch 7/100\n",
            "8523/8523 [==============================] - 17s 2ms/step - loss: 0.6886 - acc: 0.5531 - val_loss: 0.7345 - val_acc: 0.0000e+00\n",
            "Epoch 8/100\n",
            "8523/8523 [==============================] - 17s 2ms/step - loss: 0.6889 - acc: 0.5531 - val_loss: 0.7401 - val_acc: 0.0000e+00\n",
            "Epoch 9/100\n",
            "8523/8523 [==============================] - 17s 2ms/step - loss: 0.6879 - acc: 0.5531 - val_loss: 0.7415 - val_acc: 0.0000e+00\n",
            "Epoch 10/100\n",
            "8523/8523 [==============================] - 17s 2ms/step - loss: 0.6883 - acc: 0.5531 - val_loss: 0.7445 - val_acc: 0.0000e+00\n",
            "Epoch 11/100\n",
            "8523/8523 [==============================] - 17s 2ms/step - loss: 0.6876 - acc: 0.5531 - val_loss: 0.7454 - val_acc: 0.0000e+00\n",
            "Epoch 12/100\n",
            "8523/8523 [==============================] - 17s 2ms/step - loss: 0.6863 - acc: 0.5531 - val_loss: 0.7392 - val_acc: 0.0000e+00\n",
            "Epoch 13/100\n",
            "8523/8523 [==============================] - 17s 2ms/step - loss: 0.6889 - acc: 0.5531 - val_loss: 0.7494 - val_acc: 0.0000e+00\n",
            "Epoch 14/100\n",
            "8523/8523 [==============================] - 17s 2ms/step - loss: 0.6874 - acc: 0.5531 - val_loss: 0.7499 - val_acc: 0.0000e+00\n",
            "Epoch 15/100\n",
            "8523/8523 [==============================] - 17s 2ms/step - loss: 0.6875 - acc: 0.5531 - val_loss: 0.7514 - val_acc: 0.0000e+00\n",
            "Epoch 16/100\n",
            "8523/8523 [==============================] - 17s 2ms/step - loss: 0.6865 - acc: 0.5531 - val_loss: 0.7473 - val_acc: 0.0000e+00\n",
            "Epoch 17/100\n",
            "8523/8523 [==============================] - 17s 2ms/step - loss: 0.6878 - acc: 0.5531 - val_loss: 0.7524 - val_acc: 0.0000e+00\n",
            "Epoch 18/100\n",
            "8523/8523 [==============================] - 17s 2ms/step - loss: 0.6875 - acc: 0.5531 - val_loss: 0.7536 - val_acc: 0.0000e+00\n",
            "Epoch 19/100\n",
            "8523/8523 [==============================] - 17s 2ms/step - loss: 0.6859 - acc: 0.5531 - val_loss: 0.7472 - val_acc: 0.0000e+00\n",
            "Epoch 20/100\n",
            "8523/8523 [==============================] - 17s 2ms/step - loss: 0.6878 - acc: 0.5531 - val_loss: 0.7521 - val_acc: 0.0000e+00\n",
            "Epoch 21/100\n",
            "8523/8523 [==============================] - 17s 2ms/step - loss: 0.6879 - acc: 0.5531 - val_loss: 0.7572 - val_acc: 0.0000e+00\n",
            "Epoch 22/100\n",
            "8523/8523 [==============================] - 17s 2ms/step - loss: 0.6869 - acc: 0.5531 - val_loss: 0.7570 - val_acc: 0.0000e+00\n",
            "Epoch 23/100\n",
            "8523/8523 [==============================] - 17s 2ms/step - loss: 0.6871 - acc: 0.5531 - val_loss: 0.7574 - val_acc: 0.0000e+00\n",
            "Epoch 24/100\n",
            "8523/8523 [==============================] - 17s 2ms/step - loss: 0.6856 - acc: 0.5531 - val_loss: 0.7493 - val_acc: 0.0000e+00\n",
            "Epoch 25/100\n",
            "8523/8523 [==============================] - 17s 2ms/step - loss: 0.6866 - acc: 0.5531 - val_loss: 0.7478 - val_acc: 0.0000e+00\n",
            "Epoch 26/100\n",
            "8523/8523 [==============================] - 17s 2ms/step - loss: 0.6885 - acc: 0.5531 - val_loss: 0.7581 - val_acc: 0.0000e+00\n",
            "Epoch 27/100\n",
            "8523/8523 [==============================] - 17s 2ms/step - loss: 0.6869 - acc: 0.5531 - val_loss: 0.7574 - val_acc: 0.0000e+00\n",
            "Epoch 28/100\n",
            "8523/8523 [==============================] - 17s 2ms/step - loss: 0.6861 - acc: 0.5531 - val_loss: 0.7524 - val_acc: 0.0000e+00\n",
            "Epoch 29/100\n",
            "8523/8523 [==============================] - 17s 2ms/step - loss: 0.6866 - acc: 0.5531 - val_loss: 0.7493 - val_acc: 0.0000e+00\n",
            "Epoch 30/100\n",
            "8523/8523 [==============================] - 17s 2ms/step - loss: 0.6871 - acc: 0.5531 - val_loss: 0.7497 - val_acc: 0.0000e+00\n",
            "Epoch 31/100\n",
            "8523/8523 [==============================] - 17s 2ms/step - loss: 0.6885 - acc: 0.5531 - val_loss: 0.7620 - val_acc: 0.0000e+00\n",
            "Epoch 32/100\n",
            "8523/8523 [==============================] - 17s 2ms/step - loss: 0.6856 - acc: 0.5531 - val_loss: 0.7536 - val_acc: 0.0000e+00\n",
            "Epoch 33/100\n",
            "8523/8523 [==============================] - 17s 2ms/step - loss: 0.6880 - acc: 0.5531 - val_loss: 0.7596 - val_acc: 0.0000e+00\n",
            "Epoch 34/100\n",
            "8523/8523 [==============================] - 17s 2ms/step - loss: 0.6854 - acc: 0.5531 - val_loss: 0.7499 - val_acc: 0.0000e+00\n",
            "Epoch 35/100\n",
            "8523/8523 [==============================] - 17s 2ms/step - loss: 0.6876 - acc: 0.5531 - val_loss: 0.7550 - val_acc: 0.0000e+00\n",
            "Epoch 36/100\n",
            "8523/8523 [==============================] - 17s 2ms/step - loss: 0.6862 - acc: 0.5531 - val_loss: 0.7502 - val_acc: 0.0000e+00\n",
            "Epoch 37/100\n",
            "8523/8523 [==============================] - 17s 2ms/step - loss: 0.6883 - acc: 0.5531 - val_loss: 0.7619 - val_acc: 0.0000e+00\n",
            "Epoch 38/100\n",
            "8523/8523 [==============================] - 17s 2ms/step - loss: 0.6870 - acc: 0.5531 - val_loss: 0.7620 - val_acc: 0.0000e+00\n",
            "Epoch 39/100\n",
            "8523/8523 [==============================] - 17s 2ms/step - loss: 0.6865 - acc: 0.5531 - val_loss: 0.7591 - val_acc: 0.0000e+00\n",
            "Epoch 40/100\n",
            "8523/8523 [==============================] - 17s 2ms/step - loss: 0.6867 - acc: 0.5531 - val_loss: 0.7584 - val_acc: 0.0000e+00\n",
            "Epoch 41/100\n",
            "8523/8523 [==============================] - 17s 2ms/step - loss: 0.6867 - acc: 0.5531 - val_loss: 0.7564 - val_acc: 0.0000e+00\n",
            "Epoch 42/100\n",
            "8523/8523 [==============================] - 17s 2ms/step - loss: 0.6871 - acc: 0.5531 - val_loss: 0.7581 - val_acc: 0.0000e+00\n",
            "Epoch 43/100\n",
            "8523/8523 [==============================] - 17s 2ms/step - loss: 0.6867 - acc: 0.5531 - val_loss: 0.7567 - val_acc: 0.0000e+00\n",
            "Epoch 44/100\n",
            "8523/8523 [==============================] - 17s 2ms/step - loss: 0.6870 - acc: 0.5531 - val_loss: 0.7565 - val_acc: 0.0000e+00\n",
            "Epoch 45/100\n",
            "8523/8523 [==============================] - 17s 2ms/step - loss: 0.6866 - acc: 0.5531 - val_loss: 0.7555 - val_acc: 0.0000e+00\n",
            "Epoch 46/100\n",
            "8523/8523 [==============================] - 17s 2ms/step - loss: 0.6869 - acc: 0.5531 - val_loss: 0.7569 - val_acc: 0.0000e+00\n",
            "Epoch 47/100\n",
            "8523/8523 [==============================] - 17s 2ms/step - loss: 0.6867 - acc: 0.5531 - val_loss: 0.7571 - val_acc: 0.0000e+00\n",
            "Epoch 48/100\n",
            "8523/8523 [==============================] - 17s 2ms/step - loss: 0.6869 - acc: 0.5531 - val_loss: 0.7565 - val_acc: 0.0000e+00\n",
            "Epoch 49/100\n",
            "8523/8523 [==============================] - 17s 2ms/step - loss: 0.6867 - acc: 0.5531 - val_loss: 0.7559 - val_acc: 0.0000e+00\n",
            "Epoch 50/100\n",
            "8523/8523 [==============================] - 17s 2ms/step - loss: 0.6870 - acc: 0.5531 - val_loss: 0.7572 - val_acc: 0.0000e+00\n",
            "Epoch 51/100\n",
            "8523/8523 [==============================] - 17s 2ms/step - loss: 0.6869 - acc: 0.5531 - val_loss: 0.7599 - val_acc: 0.0000e+00\n",
            "Epoch 52/100\n",
            "8523/8523 [==============================] - 17s 2ms/step - loss: 0.6865 - acc: 0.5531 - val_loss: 0.7556 - val_acc: 0.0000e+00\n",
            "Epoch 53/100\n",
            "8523/8523 [==============================] - 17s 2ms/step - loss: 0.6868 - acc: 0.5531 - val_loss: 0.7568 - val_acc: 0.0000e+00\n",
            "Epoch 54/100\n",
            "8523/8523 [==============================] - 17s 2ms/step - loss: 0.6873 - acc: 0.5531 - val_loss: 0.7596 - val_acc: 0.0000e+00\n",
            "Epoch 55/100\n",
            "8523/8523 [==============================] - 17s 2ms/step - loss: 0.6861 - acc: 0.5531 - val_loss: 0.7543 - val_acc: 0.0000e+00\n",
            "Epoch 56/100\n",
            "8523/8523 [==============================] - 17s 2ms/step - loss: 0.6869 - acc: 0.5531 - val_loss: 0.7550 - val_acc: 0.0000e+00\n",
            "Epoch 57/100\n",
            "8523/8523 [==============================] - 17s 2ms/step - loss: 0.6869 - acc: 0.5531 - val_loss: 0.7562 - val_acc: 0.0000e+00\n",
            "Epoch 58/100\n",
            "8523/8523 [==============================] - 17s 2ms/step - loss: 0.6868 - acc: 0.5531 - val_loss: 0.7565 - val_acc: 0.0000e+00\n",
            "Epoch 59/100\n",
            "8523/8523 [==============================] - 17s 2ms/step - loss: 0.6864 - acc: 0.5531 - val_loss: 0.7545 - val_acc: 0.0000e+00\n",
            "Epoch 60/100\n",
            "8523/8523 [==============================] - 17s 2ms/step - loss: 0.6870 - acc: 0.5531 - val_loss: 0.7548 - val_acc: 0.0000e+00\n",
            "Epoch 61/100\n",
            "8523/8523 [==============================] - 17s 2ms/step - loss: 0.6864 - acc: 0.5531 - val_loss: 0.7545 - val_acc: 0.0000e+00\n",
            "Epoch 62/100\n",
            "8523/8523 [==============================] - 17s 2ms/step - loss: 0.6869 - acc: 0.5531 - val_loss: 0.7556 - val_acc: 0.0000e+00\n",
            "Epoch 63/100\n",
            "8523/8523 [==============================] - 17s 2ms/step - loss: 0.6870 - acc: 0.5531 - val_loss: 0.7565 - val_acc: 0.0000e+00\n",
            "Epoch 64/100\n",
            "8523/8523 [==============================] - 17s 2ms/step - loss: 0.6866 - acc: 0.5531 - val_loss: 0.7561 - val_acc: 0.0000e+00\n",
            "Epoch 65/100\n",
            "8523/8523 [==============================] - 17s 2ms/step - loss: 0.6866 - acc: 0.5531 - val_loss: 0.7541 - val_acc: 0.0000e+00\n",
            "Epoch 66/100\n",
            "8523/8523 [==============================] - 17s 2ms/step - loss: 0.6867 - acc: 0.5531 - val_loss: 0.7546 - val_acc: 0.0000e+00\n",
            "Epoch 67/100\n",
            "8523/8523 [==============================] - 17s 2ms/step - loss: 0.6866 - acc: 0.5531 - val_loss: 0.7544 - val_acc: 0.0000e+00\n",
            "Epoch 68/100\n",
            "8523/8523 [==============================] - 18s 2ms/step - loss: 0.6867 - acc: 0.5531 - val_loss: 0.7544 - val_acc: 0.0000e+00\n",
            "Epoch 69/100\n",
            "8523/8523 [==============================] - 17s 2ms/step - loss: 0.6868 - acc: 0.5531 - val_loss: 0.7560 - val_acc: 0.0000e+00\n",
            "Epoch 70/100\n",
            "8523/8523 [==============================] - 17s 2ms/step - loss: 0.6863 - acc: 0.5531 - val_loss: 0.7534 - val_acc: 0.0000e+00\n",
            "Epoch 71/100\n",
            "8523/8523 [==============================] - 17s 2ms/step - loss: 0.6868 - acc: 0.5531 - val_loss: 0.7542 - val_acc: 0.0000e+00\n",
            "Epoch 72/100\n",
            "8523/8523 [==============================] - 17s 2ms/step - loss: 0.6866 - acc: 0.5531 - val_loss: 0.7536 - val_acc: 0.0000e+00\n",
            "Epoch 73/100\n",
            "8523/8523 [==============================] - 17s 2ms/step - loss: 0.6869 - acc: 0.5531 - val_loss: 0.7553 - val_acc: 0.0000e+00\n",
            "Epoch 74/100\n",
            "8523/8523 [==============================] - 17s 2ms/step - loss: 0.6865 - acc: 0.5531 - val_loss: 0.7538 - val_acc: 0.0000e+00\n",
            "Epoch 75/100\n",
            "8523/8523 [==============================] - 17s 2ms/step - loss: 0.6866 - acc: 0.5531 - val_loss: 0.7542 - val_acc: 0.0000e+00\n",
            "Epoch 76/100\n",
            "8523/8523 [==============================] - 17s 2ms/step - loss: 0.6861 - acc: 0.5531 - val_loss: 0.7540 - val_acc: 0.0000e+00\n",
            "Epoch 77/100\n",
            "8523/8523 [==============================] - 17s 2ms/step - loss: 0.6866 - acc: 0.5531 - val_loss: 0.7546 - val_acc: 0.0000e+00\n",
            "Epoch 78/100\n",
            "8523/8523 [==============================] - 17s 2ms/step - loss: 0.6870 - acc: 0.5531 - val_loss: 0.7550 - val_acc: 0.0000e+00\n",
            "Epoch 79/100\n",
            "8523/8523 [==============================] - 17s 2ms/step - loss: 0.6867 - acc: 0.5531 - val_loss: 0.7579 - val_acc: 0.0000e+00\n",
            "Epoch 80/100\n",
            "8523/8523 [==============================] - 17s 2ms/step - loss: 0.6863 - acc: 0.5531 - val_loss: 0.7539 - val_acc: 0.0000e+00\n",
            "Epoch 81/100\n",
            "8523/8523 [==============================] - 17s 2ms/step - loss: 0.6870 - acc: 0.5531 - val_loss: 0.7559 - val_acc: 0.0000e+00\n",
            "Epoch 82/100\n",
            "8523/8523 [==============================] - 17s 2ms/step - loss: 0.6864 - acc: 0.5531 - val_loss: 0.7540 - val_acc: 0.0000e+00\n",
            "Epoch 83/100\n",
            "8523/8523 [==============================] - 17s 2ms/step - loss: 0.6863 - acc: 0.5531 - val_loss: 0.7545 - val_acc: 0.0000e+00\n",
            "Epoch 84/100\n",
            "8523/8523 [==============================] - 17s 2ms/step - loss: 0.6867 - acc: 0.5531 - val_loss: 0.7554 - val_acc: 0.0000e+00\n",
            "Epoch 85/100\n",
            "8523/8523 [==============================] - 17s 2ms/step - loss: 0.6868 - acc: 0.5531 - val_loss: 0.7554 - val_acc: 0.0000e+00\n",
            "Epoch 86/100\n",
            "8523/8523 [==============================] - 17s 2ms/step - loss: 0.6867 - acc: 0.5531 - val_loss: 0.7564 - val_acc: 0.0000e+00\n",
            "Epoch 87/100\n",
            "8523/8523 [==============================] - 17s 2ms/step - loss: 0.6866 - acc: 0.5531 - val_loss: 0.7562 - val_acc: 0.0000e+00\n",
            "Epoch 88/100\n",
            "8523/8523 [==============================] - 17s 2ms/step - loss: 0.6860 - acc: 0.5531 - val_loss: 0.7537 - val_acc: 0.0000e+00\n",
            "Epoch 89/100\n",
            "8523/8523 [==============================] - 17s 2ms/step - loss: 0.6868 - acc: 0.5531 - val_loss: 0.7549 - val_acc: 0.0000e+00\n",
            "Epoch 90/100\n",
            "8523/8523 [==============================] - 17s 2ms/step - loss: 0.6866 - acc: 0.5531 - val_loss: 0.7556 - val_acc: 0.0000e+00\n",
            "Epoch 91/100\n",
            "8523/8523 [==============================] - 17s 2ms/step - loss: 0.6870 - acc: 0.5531 - val_loss: 0.7573 - val_acc: 0.0000e+00\n",
            "Epoch 92/100\n",
            "8523/8523 [==============================] - 17s 2ms/step - loss: 0.6866 - acc: 0.5531 - val_loss: 0.7569 - val_acc: 0.0000e+00\n",
            "Epoch 93/100\n",
            "8523/8523 [==============================] - 17s 2ms/step - loss: 0.6868 - acc: 0.5531 - val_loss: 0.7582 - val_acc: 0.0000e+00\n",
            "Epoch 94/100\n",
            "8523/8523 [==============================] - 17s 2ms/step - loss: 0.6863 - acc: 0.5531 - val_loss: 0.7548 - val_acc: 0.0000e+00\n",
            "Epoch 95/100\n",
            "8523/8523 [==============================] - 17s 2ms/step - loss: 0.6868 - acc: 0.5531 - val_loss: 0.7561 - val_acc: 0.0000e+00\n",
            "Epoch 96/100\n",
            "8523/8523 [==============================] - 17s 2ms/step - loss: 0.6865 - acc: 0.5531 - val_loss: 0.7562 - val_acc: 0.0000e+00\n",
            "Epoch 97/100\n",
            "8523/8523 [==============================] - 17s 2ms/step - loss: 0.6861 - acc: 0.5531 - val_loss: 0.7532 - val_acc: 0.0000e+00\n",
            "Epoch 98/100\n",
            "8523/8523 [==============================] - 17s 2ms/step - loss: 0.6867 - acc: 0.5531 - val_loss: 0.7544 - val_acc: 0.0000e+00\n",
            "Epoch 99/100\n",
            "8523/8523 [==============================] - 17s 2ms/step - loss: 0.6869 - acc: 0.5531 - val_loss: 0.7567 - val_acc: 0.0000e+00\n",
            "Epoch 100/100\n",
            "8523/8523 [==============================] - 17s 2ms/step - loss: 0.6860 - acc: 0.5531 - val_loss: 0.7533 - val_acc: 0.0000e+00\n"
          ],
          "name": "stdout"
        }
      ]
    },
    {
      "cell_type": "code",
      "metadata": {
        "id": "yDSwgLKbrR_T",
        "colab_type": "code",
        "outputId": "178603f5-376a-47c3-94b4-b35fcb469035",
        "colab": {
          "base_uri": "https://localhost:8080/",
          "height": 281
        }
      },
      "source": [
        "import matplotlib.pyplot as plt\n",
        "plt.title('Accuracies vs Epochs')\n",
        "# plt.plot(model_history[0].history['acc'], label='Training_Accuracy')\n",
        "# plt.plot(model_history[0].history['val_acc'], label='validation Accuacy')\n",
        "plt.plot(model_history[0].history['loss'], label='Training_loss')\n",
        "# plt.plot(model_history[0].history['val_loss'], label='Val_loss')\n",
        "plt.legend()\n",
        "plt.show()"
      ],
      "execution_count": 0,
      "outputs": [
        {
          "output_type": "display_data",
          "data": {
            "image/png": "[encoded data removed]",
            "text/plain": [
              "<Figure size 432x288 with 1 Axes>"
            ]
          },
          "metadata": {
            "tags": []
          }
        }
      ]
    },
    {
      "cell_type": "code",
      "metadata": {
        "id": "WMD_7I3zuFL4",
        "colab_type": "code",
        "outputId": "c7aa4611-800e-4350-a874-d50788bfeaf9",
        "colab": {
          "base_uri": "https://localhost:8080/",
          "height": 287
        }
      },
      "source": [
        "plt.plot(model_history[0].history['val_loss'], label='Val_loss')\n",
        "plt.legend()"
      ],
      "execution_count": 0,
      "outputs": [
        {
          "output_type": "execute_result",
          "data": {
            "text/plain": [
              "<matplotlib.legend.Legend at 0x7f6b8b822b00>"
            ]
          },
          "metadata": {
            "tags": []
          },
          "execution_count": 126
        },
        {
          "output_type": "display_data",
          "data": {
            "image/png": "[encoded data removed]",
            "text/plain": [
              "<Figure size 432x288 with 1 Axes>"
            ]
          },
          "metadata": {
            "tags": []
          }
        }
      ]
    },
    {
      "cell_type": "code",
      "metadata": {
        "id": "1pam_Oh-uIrs",
        "colab_type": "code",
        "colab": {}
      },
      "source": [
        ""
      ],
      "execution_count": 0,
      "outputs": []
    },
    {
      "cell_type": "markdown",
      "metadata": {
        "id": "ypT0J1Oe9Vqz",
        "colab_type": "text"
      },
      "source": [
        "## **kmeans**"
      ]
    },
    {
      "cell_type": "code",
      "metadata": {
        "id": "A3-mE7qe997M",
        "colab_type": "code",
        "colab": {}
      },
      "source": [
        "from sklearn.cluster import KMeans\n"
      ],
      "execution_count": 0,
      "outputs": []
    },
    {
      "cell_type": "code",
      "metadata": {
        "id": "4hfDi3X2-DC0",
        "colab_type": "code",
        "colab": {}
      },
      "source": [
        "kmeans = KMeans(n_clusters=2, n_init=10, max_iter=300, tol=0.0001, precompute_distances=\"auto\", verbose=0, random_state=None, copy_x=True, n_jobs=None)"
      ],
      "execution_count": 0,
      "outputs": []
    },
    {
      "cell_type": "code",
      "metadata": {
        "id": "2js9zj2B-FoD",
        "colab_type": "code",
        "outputId": "3a48d2c4-9bf0-4881-ec29-61b3fdca1208",
        "colab": {
          "base_uri": "https://localhost:8080/",
          "height": 69
        }
      },
      "source": [
        "kmeans.fit(data[:,:5])"
      ],
      "execution_count": 0,
      "outputs": [
        {
          "output_type": "execute_result",
          "data": {
            "text/plain": [
              "KMeans(algorithm='auto', copy_x=True, init='k-means++', max_iter=300,\n",
              "       n_clusters=8, n_init=10, n_jobs=None, precompute_distances='auto',\n",
              "       random_state=None, tol=0.0001, verbose=0)"
            ]
          },
          "metadata": {
            "tags": []
          },
          "execution_count": 129
        }
      ]
    },
    {
      "cell_type": "code",
      "metadata": {
        "id": "vBADJQBV-Wxl",
        "colab_type": "code",
        "colab": {}
      },
      "source": [
        "labels = kmeans.fit_predict(data[:,:5])"
      ],
      "execution_count": 0,
      "outputs": []
    },
    {
      "cell_type": "code",
      "metadata": {
        "id": "3dgNaXv2-sQa",
        "colab_type": "code",
        "outputId": "b87d4292-6e4e-458f-c585-c8ddd71abe14",
        "colab": {
          "base_uri": "https://localhost:8080/",
          "height": 504
        }
      },
      "source": [
        "plt.figure(figsize=(8, 8))\n",
        "plt.scatter(data[:, 0], data[:, 1], c=labels)"
      ],
      "execution_count": 0,
      "outputs": [
        {
          "output_type": "execute_result",
          "data": {
            "text/plain": [
              "<matplotlib.collections.PathCollection at 0x7f63fd5cf208>"
            ]
          },
          "metadata": {
            "tags": []
          },
          "execution_count": 134
        },
        {
          "output_type": "display_data",
          "data": {
            "image/png": "[encoded data removed]",
            "text/plain": [
              "<Figure size 576x576 with 1 Axes>"
            ]
          },
          "metadata": {
            "tags": []
          }
        }
      ]
    },
    {
      "cell_type": "code",
      "metadata": {
        "id": "bg5IDkMY-xzh",
        "colab_type": "code",
        "colab": {}
      },
      "source": [
        ""
      ],
      "execution_count": 0,
      "outputs": []
    }
  ]
}